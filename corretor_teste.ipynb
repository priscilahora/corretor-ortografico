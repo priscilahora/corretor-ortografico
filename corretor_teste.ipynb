{
 "cells": [
  {
   "cell_type": "code",
   "execution_count": 42,
   "id": "7d57c279",
   "metadata": {},
   "outputs": [],
   "source": [
    "import nltk"
   ]
  },
  {
   "cell_type": "code",
   "execution_count": 43,
   "id": "5b5fe7c0",
   "metadata": {},
   "outputs": [
    {
     "name": "stdout",
     "output_type": "stream",
     "text": [
      "\n",
      "\n",
      "\n",
      "imagem \n",
      "\n",
      "Temos a seguinte classe que representa um usuário no nosso sistema:\n",
      "\n",
      "java\n",
      "\n",
      "Para salvar um novo usuário, várias validações são feitas, como por exemplo: Ver se o nome só contém letras, [**o CPF só números**] e ver se o usuário possui no mínimo 18 anos. Veja o método que faz essa validação:\n",
      "\n",
      "java \n",
      "\n",
      "Suponha agora que eu tenha outra classe, a classe `Produto`, que contém um atributo nome e eu quero fazer a mesma validação que fiz para o nome do usuário: Ver se só contém letras. E aí? Vou\n"
     ]
    }
   ],
   "source": [
    "with open('artigos.txt', 'r') as file:\n",
    "    artigos = file.read()\n",
    "    \n",
    "print(artigos[:500])"
   ]
  },
  {
   "cell_type": "code",
   "execution_count": 44,
   "id": "dada0288",
   "metadata": {},
   "outputs": [
    {
     "data": {
      "text/plain": [
       "2605046"
      ]
     },
     "execution_count": 44,
     "metadata": {},
     "output_type": "execute_result"
    }
   ],
   "source": [
    "len(artigos)"
   ]
  },
  {
   "cell_type": "code",
   "execution_count": 45,
   "id": "c42e1f2f",
   "metadata": {},
   "outputs": [],
   "source": [
    "lista_tokens = nltk.tokenize.word_tokenize(artigos)"
   ]
  },
  {
   "cell_type": "code",
   "execution_count": 46,
   "id": "78904acb",
   "metadata": {},
   "outputs": [],
   "source": [
    "def separa_palavras(lista_tokens):\n",
    "    lista_palavras = []\n",
    "    \n",
    "    for token in lista_tokens:\n",
    "        if token.isalpha():\n",
    "            lista_palavras.append(token)\n",
    "            \n",
    "    return lista_palavras"
   ]
  },
  {
   "cell_type": "code",
   "execution_count": 47,
   "id": "a56e0d87",
   "metadata": {},
   "outputs": [],
   "source": [
    "def normalizacao(lista_palavras):\n",
    "    lista_normalizada = []\n",
    "    \n",
    "    for palavra in lista_palavras:\n",
    "        lista_normalizada.append(palavra.lower())\n",
    "    \n",
    "    return lista_normalizada"
   ]
  },
  {
   "cell_type": "code",
   "execution_count": 48,
   "id": "89b5ba10",
   "metadata": {},
   "outputs": [],
   "source": [
    "def gerador_palavras(palavra):\n",
    "    \n",
    "    fatias = []\n",
    "    \n",
    "    for i in range(len(palavra)+1):\n",
    "        fatia = (palavra[:i], palavra[i:])\n",
    "        fatias.append(fatia)\n",
    "    \n",
    "    print(fatias)\n",
    "    palavras_geradas = insere_letras(fatias)\n",
    "    \n",
    "    return palavras_geradas"
   ]
  },
  {
   "cell_type": "code",
   "execution_count": 49,
   "id": "863db162",
   "metadata": {},
   "outputs": [],
   "source": [
    "def insere_letras(fatias):\n",
    "    novas_palavras = []\n",
    "    letras = 'abcdefghijklmnopqrstuvwxyzáâàãéêèíîìóôòõúûùç'\n",
    "    \n",
    "    for E, D in fatias:\n",
    "        for letra in letras:\n",
    "            novas_palavras.append(E + letra + D)\n",
    "    \n",
    "    return novas_palavras"
   ]
  },
  {
   "cell_type": "code",
   "execution_count": 62,
   "id": "a283e009",
   "metadata": {},
   "outputs": [],
   "source": [
    "def probabilidade(palavra_gerada):\n",
    "    return frequencia[palavra_gerada]/total_palavras"
   ]
  },
  {
   "cell_type": "code",
   "execution_count": 51,
   "id": "f12cbb7c",
   "metadata": {},
   "outputs": [],
   "source": [
    "def corretor(palavra):\n",
    "    palavras_geradas = gerador_palavras(palavra)\n",
    "\n",
    "    palavra_correta = max(palavras_geradas, key=probabilidade)\n",
    "    \n",
    "    return palavra_correta"
   ]
  },
  {
   "cell_type": "code",
   "execution_count": 52,
   "id": "ce274b68",
   "metadata": {},
   "outputs": [
    {
     "data": {
      "text/plain": [
       "[('de', 15502),\n",
       " ('o', 14056),\n",
       " ('que', 12230),\n",
       " ('a', 11099),\n",
       " ('e', 10501),\n",
       " ('para', 7710),\n",
       " ('um', 6368),\n",
       " ('é', 5899),\n",
       " ('uma', 5220),\n",
       " ('do', 5124)]"
      ]
     },
     "execution_count": 52,
     "metadata": {},
     "output_type": "execute_result"
    }
   ],
   "source": [
    "total_palavras = len(lista_normalizada)\n",
    "frequencia = nltk.FreqDist(lista_normalizada)\n",
    "frequencia.most_common(10)"
   ]
  },
  {
   "cell_type": "code",
   "execution_count": 53,
   "id": "9ae07679",
   "metadata": {},
   "outputs": [],
   "source": [
    "lista_palavras = separa_palavras(lista_tokens)"
   ]
  },
  {
   "cell_type": "code",
   "execution_count": 54,
   "id": "b1135b5a",
   "metadata": {},
   "outputs": [
    {
     "name": "stdout",
     "output_type": "stream",
     "text": [
      "O número de palavras no texto utilizado é: 403104\n"
     ]
    }
   ],
   "source": [
    "print(f\"O número de palavras no texto utilizado é: {len(lista_palavras)}\")"
   ]
  },
  {
   "cell_type": "code",
   "execution_count": 55,
   "id": "bb1b0a23",
   "metadata": {},
   "outputs": [
    {
     "name": "stdout",
     "output_type": "stream",
     "text": [
      "['imagem', 'Temos', 'a', 'seguinte', 'classe']\n"
     ]
    }
   ],
   "source": [
    "print(lista_palavras[:5])"
   ]
  },
  {
   "cell_type": "code",
   "execution_count": 56,
   "id": "059e474c",
   "metadata": {},
   "outputs": [],
   "source": [
    "lista_normalizada = normalizacao(lista_palavras)"
   ]
  },
  {
   "cell_type": "code",
   "execution_count": 57,
   "id": "2b2f3eaa",
   "metadata": {},
   "outputs": [
    {
     "name": "stdout",
     "output_type": "stream",
     "text": [
      "['imagem', 'temos', 'a', 'seguinte', 'classe']\n"
     ]
    }
   ],
   "source": [
    "print(lista_normalizada[:5])"
   ]
  },
  {
   "cell_type": "code",
   "execution_count": 58,
   "id": "52dd7126",
   "metadata": {},
   "outputs": [
    {
     "data": {
      "text/plain": [
       "18465"
      ]
     },
     "execution_count": 58,
     "metadata": {},
     "output_type": "execute_result"
    }
   ],
   "source": [
    "len(set(lista_normalizada))"
   ]
  },
  {
   "cell_type": "code",
   "execution_count": 59,
   "id": "3e6e70be",
   "metadata": {},
   "outputs": [],
   "source": [
    "palavra_exemplo = \"lgica\""
   ]
  },
  {
   "cell_type": "code",
   "execution_count": 60,
   "id": "a20b2aae",
   "metadata": {},
   "outputs": [
    {
     "name": "stdout",
     "output_type": "stream",
     "text": [
      "[('', 'lgica'), ('l', 'gica'), ('lg', 'ica'), ('lgi', 'ca'), ('lgic', 'a'), ('lgica', '')]\n"
     ]
    },
    {
     "data": {
      "text/plain": [
       "['algica',\n",
       " 'blgica',\n",
       " 'clgica',\n",
       " 'dlgica',\n",
       " 'elgica',\n",
       " 'flgica',\n",
       " 'glgica',\n",
       " 'hlgica',\n",
       " 'ilgica',\n",
       " 'jlgica',\n",
       " 'klgica',\n",
       " 'llgica',\n",
       " 'mlgica',\n",
       " 'nlgica',\n",
       " 'olgica',\n",
       " 'plgica',\n",
       " 'qlgica',\n",
       " 'rlgica',\n",
       " 'slgica',\n",
       " 'tlgica',\n",
       " 'ulgica',\n",
       " 'vlgica',\n",
       " 'wlgica',\n",
       " 'xlgica',\n",
       " 'ylgica',\n",
       " 'zlgica',\n",
       " 'álgica',\n",
       " 'âlgica',\n",
       " 'àlgica',\n",
       " 'ãlgica',\n",
       " 'élgica',\n",
       " 'êlgica',\n",
       " 'èlgica',\n",
       " 'ílgica',\n",
       " 'îlgica',\n",
       " 'ìlgica',\n",
       " 'ólgica',\n",
       " 'ôlgica',\n",
       " 'òlgica',\n",
       " 'õlgica',\n",
       " 'úlgica',\n",
       " 'ûlgica',\n",
       " 'ùlgica',\n",
       " 'çlgica',\n",
       " 'lagica',\n",
       " 'lbgica',\n",
       " 'lcgica',\n",
       " 'ldgica',\n",
       " 'legica',\n",
       " 'lfgica',\n",
       " 'lggica',\n",
       " 'lhgica',\n",
       " 'ligica',\n",
       " 'ljgica',\n",
       " 'lkgica',\n",
       " 'llgica',\n",
       " 'lmgica',\n",
       " 'lngica',\n",
       " 'logica',\n",
       " 'lpgica',\n",
       " 'lqgica',\n",
       " 'lrgica',\n",
       " 'lsgica',\n",
       " 'ltgica',\n",
       " 'lugica',\n",
       " 'lvgica',\n",
       " 'lwgica',\n",
       " 'lxgica',\n",
       " 'lygica',\n",
       " 'lzgica',\n",
       " 'lágica',\n",
       " 'lâgica',\n",
       " 'làgica',\n",
       " 'lãgica',\n",
       " 'légica',\n",
       " 'lêgica',\n",
       " 'lègica',\n",
       " 'lígica',\n",
       " 'lîgica',\n",
       " 'lìgica',\n",
       " 'lógica',\n",
       " 'lôgica',\n",
       " 'lògica',\n",
       " 'lõgica',\n",
       " 'lúgica',\n",
       " 'lûgica',\n",
       " 'lùgica',\n",
       " 'lçgica',\n",
       " 'lgaica',\n",
       " 'lgbica',\n",
       " 'lgcica',\n",
       " 'lgdica',\n",
       " 'lgeica',\n",
       " 'lgfica',\n",
       " 'lggica',\n",
       " 'lghica',\n",
       " 'lgiica',\n",
       " 'lgjica',\n",
       " 'lgkica',\n",
       " 'lglica',\n",
       " 'lgmica',\n",
       " 'lgnica',\n",
       " 'lgoica',\n",
       " 'lgpica',\n",
       " 'lgqica',\n",
       " 'lgrica',\n",
       " 'lgsica',\n",
       " 'lgtica',\n",
       " 'lguica',\n",
       " 'lgvica',\n",
       " 'lgwica',\n",
       " 'lgxica',\n",
       " 'lgyica',\n",
       " 'lgzica',\n",
       " 'lgáica',\n",
       " 'lgâica',\n",
       " 'lgàica',\n",
       " 'lgãica',\n",
       " 'lgéica',\n",
       " 'lgêica',\n",
       " 'lgèica',\n",
       " 'lgíica',\n",
       " 'lgîica',\n",
       " 'lgìica',\n",
       " 'lgóica',\n",
       " 'lgôica',\n",
       " 'lgòica',\n",
       " 'lgõica',\n",
       " 'lgúica',\n",
       " 'lgûica',\n",
       " 'lgùica',\n",
       " 'lgçica',\n",
       " 'lgiaca',\n",
       " 'lgibca',\n",
       " 'lgicca',\n",
       " 'lgidca',\n",
       " 'lgieca',\n",
       " 'lgifca',\n",
       " 'lgigca',\n",
       " 'lgihca',\n",
       " 'lgiica',\n",
       " 'lgijca',\n",
       " 'lgikca',\n",
       " 'lgilca',\n",
       " 'lgimca',\n",
       " 'lginca',\n",
       " 'lgioca',\n",
       " 'lgipca',\n",
       " 'lgiqca',\n",
       " 'lgirca',\n",
       " 'lgisca',\n",
       " 'lgitca',\n",
       " 'lgiuca',\n",
       " 'lgivca',\n",
       " 'lgiwca',\n",
       " 'lgixca',\n",
       " 'lgiyca',\n",
       " 'lgizca',\n",
       " 'lgiáca',\n",
       " 'lgiâca',\n",
       " 'lgiàca',\n",
       " 'lgiãca',\n",
       " 'lgiéca',\n",
       " 'lgiêca',\n",
       " 'lgièca',\n",
       " 'lgiíca',\n",
       " 'lgiîca',\n",
       " 'lgiìca',\n",
       " 'lgióca',\n",
       " 'lgiôca',\n",
       " 'lgiòca',\n",
       " 'lgiõca',\n",
       " 'lgiúca',\n",
       " 'lgiûca',\n",
       " 'lgiùca',\n",
       " 'lgiçca',\n",
       " 'lgicaa',\n",
       " 'lgicba',\n",
       " 'lgicca',\n",
       " 'lgicda',\n",
       " 'lgicea',\n",
       " 'lgicfa',\n",
       " 'lgicga',\n",
       " 'lgicha',\n",
       " 'lgicia',\n",
       " 'lgicja',\n",
       " 'lgicka',\n",
       " 'lgicla',\n",
       " 'lgicma',\n",
       " 'lgicna',\n",
       " 'lgicoa',\n",
       " 'lgicpa',\n",
       " 'lgicqa',\n",
       " 'lgicra',\n",
       " 'lgicsa',\n",
       " 'lgicta',\n",
       " 'lgicua',\n",
       " 'lgicva',\n",
       " 'lgicwa',\n",
       " 'lgicxa',\n",
       " 'lgicya',\n",
       " 'lgicza',\n",
       " 'lgicáa',\n",
       " 'lgicâa',\n",
       " 'lgicàa',\n",
       " 'lgicãa',\n",
       " 'lgicéa',\n",
       " 'lgicêa',\n",
       " 'lgicèa',\n",
       " 'lgicía',\n",
       " 'lgicîa',\n",
       " 'lgicìa',\n",
       " 'lgicóa',\n",
       " 'lgicôa',\n",
       " 'lgicòa',\n",
       " 'lgicõa',\n",
       " 'lgicúa',\n",
       " 'lgicûa',\n",
       " 'lgicùa',\n",
       " 'lgicça',\n",
       " 'lgicaa',\n",
       " 'lgicab',\n",
       " 'lgicac',\n",
       " 'lgicad',\n",
       " 'lgicae',\n",
       " 'lgicaf',\n",
       " 'lgicag',\n",
       " 'lgicah',\n",
       " 'lgicai',\n",
       " 'lgicaj',\n",
       " 'lgicak',\n",
       " 'lgical',\n",
       " 'lgicam',\n",
       " 'lgican',\n",
       " 'lgicao',\n",
       " 'lgicap',\n",
       " 'lgicaq',\n",
       " 'lgicar',\n",
       " 'lgicas',\n",
       " 'lgicat',\n",
       " 'lgicau',\n",
       " 'lgicav',\n",
       " 'lgicaw',\n",
       " 'lgicax',\n",
       " 'lgicay',\n",
       " 'lgicaz',\n",
       " 'lgicaá',\n",
       " 'lgicaâ',\n",
       " 'lgicaà',\n",
       " 'lgicaã',\n",
       " 'lgicaé',\n",
       " 'lgicaê',\n",
       " 'lgicaè',\n",
       " 'lgicaí',\n",
       " 'lgicaî',\n",
       " 'lgicaì',\n",
       " 'lgicaó',\n",
       " 'lgicaô',\n",
       " 'lgicaò',\n",
       " 'lgicaõ',\n",
       " 'lgicaú',\n",
       " 'lgicaû',\n",
       " 'lgicaù',\n",
       " 'lgicaç']"
      ]
     },
     "execution_count": 60,
     "metadata": {},
     "output_type": "execute_result"
    }
   ],
   "source": [
    "gerador_palavras(palavra_exemplo)"
   ]
  },
  {
   "cell_type": "code",
   "execution_count": 63,
   "id": "98d727e9",
   "metadata": {},
   "outputs": [
    {
     "data": {
      "text/plain": [
       "0.00023815194093831864"
      ]
     },
     "execution_count": 63,
     "metadata": {},
     "output_type": "execute_result"
    }
   ],
   "source": [
    "probabilidade(\"lógica\")"
   ]
  },
  {
   "cell_type": "code",
   "execution_count": 72,
   "id": "59d82522",
   "metadata": {},
   "outputs": [
    {
     "name": "stdout",
     "output_type": "stream",
     "text": [
      "[('', 'lgica'), ('l', 'gica'), ('lg', 'ica'), ('lgi', 'ca'), ('lgic', 'a'), ('lgica', '')]\n"
     ]
    },
    {
     "data": {
      "text/plain": [
       "'lógica'"
      ]
     },
     "execution_count": 72,
     "metadata": {},
     "output_type": "execute_result"
    }
   ],
   "source": [
    "corretor('lgica')"
   ]
  }
 ],
 "metadata": {
  "kernelspec": {
   "display_name": "Python 3 (ipykernel)",
   "language": "python",
   "name": "python3"
  },
  "language_info": {
   "codemirror_mode": {
    "name": "ipython",
    "version": 3
   },
   "file_extension": ".py",
   "mimetype": "text/x-python",
   "name": "python",
   "nbconvert_exporter": "python",
   "pygments_lexer": "ipython3",
   "version": "3.11.3"
  }
 },
 "nbformat": 4,
 "nbformat_minor": 5
}
